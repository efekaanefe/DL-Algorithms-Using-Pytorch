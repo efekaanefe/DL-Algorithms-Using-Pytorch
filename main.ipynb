{
 "cells": [
  {
   "cell_type": "code",
   "execution_count": 6,
   "id": "67dd4d36-609b-4e14-ba93-ebf08bdb15ba",
   "metadata": {},
   "outputs": [],
   "source": [
    "# Props to this sensei\n",
    "# https://www.youtube.com/watch?v=kCc8FmEb1nY&list=PLAqhIrjkxbuWI23v9cThsA9GvCAUhRvKZ&index=8"
   ]
  },
  {
   "cell_type": "code",
   "execution_count": 26,
   "id": "9a77eb7d-2891-46db-9649-70dbf52dd5e2",
   "metadata": {},
   "outputs": [],
   "source": [
    "import torch\n",
    "import torch.nn as nn\n",
    "import torch.optim as optim\n",
    "from torch.utils.data import Dataset, DataLoader\n",
    "from tqdm import tqdm # progress bar"
   ]
  },
  {
   "cell_type": "markdown",
   "id": "bd24e153-111f-490b-aa5f-9579bf99d022",
   "metadata": {},
   "source": [
    "## Reading Data"
   ]
  },
  {
   "cell_type": "code",
   "execution_count": 5,
   "id": "5123bdbe-4f29-476b-b2d3-2d142e5e7661",
   "metadata": {},
   "outputs": [
    {
     "data": {
      "text/plain": [
       "'First Citizen:\\nBefore we proceed any further, hear me speak.\\n\\nAll:\\nSpeak, speak.\\n\\nFirst Citizen:\\nYou'"
      ]
     },
     "execution_count": 5,
     "metadata": {},
     "output_type": "execute_result"
    }
   ],
   "source": [
    "# read file\n",
    "text_file = \"tiny-shakespeare.txt\"\n",
    "with open(text_file, \"r\") as f:\n",
    "    text = f.read()\n",
    "text[:100]"
   ]
  },
  {
   "cell_type": "code",
   "execution_count": 27,
   "id": "cc14e1f1-3f5e-4e98-b838-cbbcb10b6585",
   "metadata": {
    "scrolled": true
   },
   "outputs": [
    {
     "name": "stdout",
     "output_type": "stream",
     "text": [
      "All the characters in the text: \n",
      " !$&',-.3:;?ABCDEFGHIJKLMNOPQRSTUVWXYZabcdefghijklmnopqrstuvwxyz\n",
      "Length of the characters: 65\n"
     ]
    }
   ],
   "source": [
    "chars = sorted(list(set(text)))\n",
    "char_size = len(chars)\n",
    "print(f\"All the characters in the text: {''.join(chars)}\")\n",
    "print(f\"Length of the characters: {char_size}\")"
   ]
  },
  {
   "cell_type": "markdown",
   "id": "a7fe3542-8123-49f9-8ea7-2e070befb718",
   "metadata": {},
   "source": [
    "## Tokenize Data (character based)"
   ]
  },
  {
   "cell_type": "code",
   "execution_count": 81,
   "id": "716a4f5f-33d7-46ad-a82e-9551a721833d",
   "metadata": {},
   "outputs": [
    {
     "name": "stdout",
     "output_type": "stream",
     "text": [
      "Original String: Hello there\n",
      "Encoded List of ASCII Values: [20, 43, 50, 50, 53, 1, 58, 46, 43, 56, 43]\n",
      "Decoded String: ['H', 'e', 'l', 'l', 'o', ' ', 't', 'h', 'e', 'r', 'e']\n"
     ]
    }
   ],
   "source": [
    "### Using list index\n",
    "# char -> char_index, or vice-versa\n",
    "char2int = {char:i for i, char in enumerate(chars)}\n",
    "int2char = {i:char for i, char in enumerate(chars)}\n",
    "encode_string = lambda input_string: [char2int[char] for char in input_string]\n",
    "decode_string = lambda encoded_list: [int2char[int_char] for int_char in encoded_list]\n",
    "\n",
    "# Example usage:\n",
    "input_str = \"Hello there\"\n",
    "encoded_string = encode_string(input_str)\n",
    "decoded_string = decode_string(encoded_string)\n",
    "\n",
    "print(\"Original String:\", input_str)\n",
    "print(\"Encoded List of ASCII Values:\", encoded_string)\n",
    "print(\"Decoded String:\", decoded_string)\n",
    "\n",
    "# ### Using ascii\n",
    "# ascii_tokenizer = lambda char: ord(char)\n",
    "# ascii_encoder = lambda input_string : [ascii_tokenizer(char) for char in input_string]\n",
    "# ascii_decoder = lambda encoded_list : [chr(ascii_value) for ascii_value in encoded_list]\n",
    "\n",
    "# # Example usage:\n",
    "# input_str = \"Hello there\"\n",
    "# encoded_list = ascii_encoder(input_str)\n",
    "# decoded_str = ascii_decoder(encoded_list)\n",
    "\n",
    "# print(\"Original String:\", input_str)\n",
    "# print(\"Encoded List of ASCII Values:\", encoded_list)\n",
    "# print(\"Decoded String:\", decoded_str)"
   ]
  },
  {
   "cell_type": "code",
   "execution_count": null,
   "id": "1f526668-9926-404e-a0fe-9c672d5f7160",
   "metadata": {},
   "outputs": [],
   "source": []
  }
 ],
 "metadata": {
  "kernelspec": {
   "display_name": "Python 3 (ipykernel)",
   "language": "python",
   "name": "python3"
  },
  "language_info": {
   "codemirror_mode": {
    "name": "ipython",
    "version": 3
   },
   "file_extension": ".py",
   "mimetype": "text/x-python",
   "name": "python",
   "nbconvert_exporter": "python",
   "pygments_lexer": "ipython3",
   "version": "3.11.6"
  }
 },
 "nbformat": 4,
 "nbformat_minor": 5
}
