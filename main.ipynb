{
 "cells": [
  {
   "cell_type": "code",
   "execution_count": 6,
   "id": "67dd4d36-609b-4e14-ba93-ebf08bdb15ba",
   "metadata": {},
   "outputs": [],
   "source": [
    "# Props to this sensei\n",
    "# https://www.youtube.com/watch?v=kCc8FmEb1nY&list=PLAqhIrjkxbuWI23v9cThsA9GvCAUhRvKZ&index=8"
   ]
  },
  {
   "cell_type": "code",
   "execution_count": null,
   "id": "9a77eb7d-2891-46db-9649-70dbf52dd5e2",
   "metadata": {},
   "outputs": [],
   "source": [
    "import pytorch as pt"
   ]
  },
  {
   "cell_type": "code",
   "execution_count": 5,
   "id": "5123bdbe-4f29-476b-b2d3-2d142e5e7661",
   "metadata": {},
   "outputs": [
    {
     "data": {
      "text/plain": [
       "'First Citizen:\\nBefore we proceed any further, hear me speak.\\n\\nAll:\\nSpeak, speak.\\n\\nFirst Citizen:\\nYou'"
      ]
     },
     "execution_count": 5,
     "metadata": {},
     "output_type": "execute_result"
    }
   ],
   "source": [
    "# read file\n",
    "text_file = \"tiny-shakespeare.txt\"\n",
    "with open(text_file, \"r\") as f:\n",
    "    text = f.read()\n",
    "text[:100]"
   ]
  },
  {
   "cell_type": "code",
   "execution_count": 10,
   "id": "cc14e1f1-3f5e-4e98-b838-cbbcb10b6585",
   "metadata": {
    "scrolled": true
   },
   "outputs": [
    {
     "data": {
      "text/plain": [
       "['u',\n",
       " 'l',\n",
       " 'P',\n",
       " 'c',\n",
       " 'T',\n",
       " 'j',\n",
       " 'w',\n",
       " 'h',\n",
       " 'f',\n",
       " ',',\n",
       " '.',\n",
       " 'S',\n",
       " 'm',\n",
       " 'r',\n",
       " 'v',\n",
       " 'O',\n",
       " 'g',\n",
       " 's',\n",
       " 'V',\n",
       " 'x',\n",
       " 'J',\n",
       " 'K',\n",
       " ':',\n",
       " 'Z',\n",
       " '$',\n",
       " '\\n',\n",
       " 'p',\n",
       " 'a',\n",
       " 'M',\n",
       " 'd',\n",
       " '-',\n",
       " 'b',\n",
       " 'G',\n",
       " 't',\n",
       " 'H',\n",
       " 'Y',\n",
       " 'i',\n",
       " 'B',\n",
       " 'Q',\n",
       " 'k',\n",
       " 'L',\n",
       " 'R',\n",
       " '?',\n",
       " 'C',\n",
       " 'z',\n",
       " 'A',\n",
       " 'I',\n",
       " ';',\n",
       " 'W',\n",
       " \"'\",\n",
       " 'D',\n",
       " '&',\n",
       " '!',\n",
       " 'n',\n",
       " 'X',\n",
       " '3',\n",
       " 'o',\n",
       " 'E',\n",
       " 'e',\n",
       " 'U',\n",
       " ' ',\n",
       " 'q',\n",
       " 'y',\n",
       " 'N',\n",
       " 'F']"
      ]
     },
     "execution_count": 10,
     "metadata": {},
     "output_type": "execute_result"
    }
   ],
   "source": [
    "chars = list(set(text))\n",
    "chars"
   ]
  }
 ],
 "metadata": {
  "kernelspec": {
   "display_name": "Python 3 (ipykernel)",
   "language": "python",
   "name": "python3"
  },
  "language_info": {
   "codemirror_mode": {
    "name": "ipython",
    "version": 3
   },
   "file_extension": ".py",
   "mimetype": "text/x-python",
   "name": "python",
   "nbconvert_exporter": "python",
   "pygments_lexer": "ipython3",
   "version": "3.11.6"
  }
 },
 "nbformat": 4,
 "nbformat_minor": 5
}
